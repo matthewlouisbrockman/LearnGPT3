{
 "cells": [
  {
   "cell_type": "markdown",
   "metadata": {},
   "source": [
    "## 1: Doing a basic completion with GPT3\n",
    "\n",
    "Here we'll load in our API keys, organizations, and see if we can figure out what one plus one equals."
   ]
  },
  {
   "cell_type": "markdown",
   "metadata": {},
   "source": [
    "Start with the imports"
   ]
  },
  {
   "cell_type": "code",
   "execution_count": 1,
   "metadata": {},
   "outputs": [],
   "source": [
    "import os, openai"
   ]
  },
  {
   "cell_type": "markdown",
   "metadata": {},
   "source": [
    "Now we need to set the API key and (if applicable) the organization you belong to if that's set up. You can manually put them in or bring them in from the environement."
   ]
  },
  {
   "cell_type": "code",
   "execution_count": 2,
   "metadata": {},
   "outputs": [],
   "source": [
    "openai.api_key = os.environ['OPENAI_KEY']"
   ]
  },
  {
   "cell_type": "code",
   "execution_count": 3,
   "metadata": {},
   "outputs": [
    {
     "name": "stdout",
     "output_type": "stream",
     "text": [
      "Organization Added\n"
     ]
    }
   ],
   "source": [
    "try:\n",
    "    openai.organization = os.environ['OPENAI_ORG']\n",
    "    print('Organization Added')\n",
    "except:\n",
    "    print('No Organization')"
   ]
  },
  {
   "cell_type": "markdown",
   "metadata": {},
   "source": [
    "*Run this if you want to charge your personal instead of org*"
   ]
  },
  {
   "cell_type": "code",
   "execution_count": 4,
   "metadata": {},
   "outputs": [],
   "source": [
    "#openai.organization=None"
   ]
  },
  {
   "cell_type": "markdown",
   "metadata": {},
   "source": [
    "You can do a query via the Completion API endpoint. Let's create a simple completion prompt.\n",
    "\n",
    "The three quotes are used for multiline strings in python."
   ]
  },
  {
   "cell_type": "code",
   "execution_count": 6,
   "metadata": {},
   "outputs": [],
   "source": [
    "prompt = \"\"\"Question: What is 1 + 1?\n",
    "Answer:\"\"\""
   ]
  },
  {
   "cell_type": "code",
   "execution_count": 7,
   "metadata": {},
   "outputs": [
    {
     "name": "stdout",
     "output_type": "stream",
     "text": [
      "Question: What is 1 + 1?\n",
      "Answer:\n"
     ]
    }
   ],
   "source": [
    "print(prompt)"
   ]
  },
  {
   "cell_type": "markdown",
   "metadata": {},
   "source": [
    "Note: We never want to end a prompt with a blank space. We can see why in a minute.\n",
    "\n",
    "Let's go ahead and query it on the smallest model, ADA"
   ]
  },
  {
   "cell_type": "code",
   "execution_count": 8,
   "metadata": {},
   "outputs": [],
   "source": [
    "response = openai.Completion.create(prompt=prompt, engine=\"ada\")"
   ]
  },
  {
   "cell_type": "markdown",
   "metadata": {},
   "source": [
    "This gives us a JSON of the responses."
   ]
  },
  {
   "cell_type": "code",
   "execution_count": 9,
   "metadata": {},
   "outputs": [
    {
     "name": "stdout",
     "output_type": "stream",
     "text": [
      "{\n",
      "  \"choices\": [\n",
      "    {\n",
      "      \"finish_reason\": \"length\",\n",
      "      \"index\": 0,\n",
      "      \"logprobs\": null,\n",
      "      \"text\": \" 1.100.Don't You Know That by Boston Pops?You'll\"\n",
      "    }\n",
      "  ],\n",
      "  \"created\": 1623711797,\n",
      "  \"id\": \"cmpl-3ApttKP6xQmxVdvc9c6WZqDhZ0Weq\",\n",
      "  \"model\": \"ada:2020-05-03\",\n",
      "  \"object\": \"text_completion\"\n",
      "}\n"
     ]
    }
   ],
   "source": [
    "print(response)"
   ]
  },
  {
   "cell_type": "markdown",
   "metadata": {},
   "source": [
    "Depending on how many completions we asked for (variations) the choices array can be larger.\n",
    "\n",
    "In this case, there's just 1 option. Let's print it."
   ]
  },
  {
   "cell_type": "code",
   "execution_count": 11,
   "metadata": {},
   "outputs": [
    {
     "name": "stdout",
     "output_type": "stream",
     "text": [
      " 1.100.Don't You Know That by Boston Pops?You'll\n"
     ]
    }
   ],
   "source": [
    "print(response['choices'][0]['text'])"
   ]
  },
  {
   "cell_type": "markdown",
   "metadata": {},
   "source": [
    "We can see the options that are available by requesting the possible completions using the `logprobs` parameters"
   ]
  },
  {
   "cell_type": "code",
   "execution_count": 12,
   "metadata": {},
   "outputs": [],
   "source": [
    "response = openai.Completion.create(prompt=prompt, engine=\"ada\", logprobs=5)"
   ]
  },
  {
   "cell_type": "markdown",
   "metadata": {},
   "source": [
    "*note: logprobs are the log of the probability that that token comes next; at 0 temperature the most likely logprob (least negative) is chosen. As temperature goes up, more unlikely tokens can be selected from the distribution"
   ]
  },
  {
   "cell_type": "code",
   "execution_count": 13,
   "metadata": {},
   "outputs": [
    {
     "name": "stdout",
     "output_type": "stream",
     "text": [
      "{\n",
      "  \"choices\": [\n",
      "    {\n",
      "      \"finish_reason\": \"length\",\n",
      "      \"index\": 0,\n",
      "      \"logprobs\": {\n",
      "        \"text_offset\": [\n",
      "          32,\n",
      "          34,\n",
      "          37,\n",
      "          41,\n",
      "          46,\n",
      "          50,\n",
      "          51,\n",
      "          55,\n",
      "          58,\n",
      "          60,\n",
      "          66,\n",
      "          73,\n",
      "          74,\n",
      "          75,\n",
      "          79,\n",
      "          80\n",
      "        ],\n",
      "        \"token_logprobs\": [\n",
      "          -1.1586264,\n",
      "          -2.0373125,\n",
      "          -0.91038746,\n",
      "          -5.251942,\n",
      "          -13.529189,\n",
      "          -3.0176218,\n",
      "          -2.6854093,\n",
      "          -0.39519098,\n",
      "          -3.6330554,\n",
      "          -5.4778113,\n",
      "          -6.801372,\n",
      "          -2.9611325,\n",
      "          -4.790423,\n",
      "          -6.553976,\n",
      "          -0.5858207,\n",
      "          -3.5208912\n",
      "        ],\n",
      "        \"tokens\": [\n",
      "          \" 1\",\n",
      "          \" is\",\n",
      "          \" the\",\n",
      "          \" root\",\n",
      "          \" pen\",\n",
      "          \"-\",\n",
      "          \"name\",\n",
      "          \" of\",\n",
      "          \" a\",\n",
      "          \" small\",\n",
      "          \" branch\",\n",
      "          \",\",\n",
      "          \"\\n\",\n",
      "          \"Thus\",\n",
      "          \",\",\n",
      "          \" we\"\n",
      "        ],\n",
      "        \"top_logprobs\": [\n",
      "          {\n",
      "            \"\\n\": -3.3884075,\n",
      "            \" 1\": -1.1586264,\n",
      "            \" A\": -3.1307986,\n",
      "            \" It\": -3.1697712,\n",
      "            \" The\": -2.7225835\n",
      "          },\n",
      "          {\n",
      "            \" +\": -0.9230995,\n",
      "            \" =\": -2.836065,\n",
      "            \" is\": -2.0373125,\n",
      "            \"+\": -3.6135662,\n",
      "            \".\": -2.6672897\n",
      "          },\n",
      "          {\n",
      "            \" 1\": -2.4156194,\n",
      "            \" a\": -1.9942049,\n",
      "            \" an\": -3.2899954,\n",
      "            \" equal\": -3.1027274,\n",
      "            \" the\": -0.91038746\n",
      "          },\n",
      "          {\n",
      "            \" number\": -1.4334644,\n",
      "            \" product\": -2.6344657,\n",
      "            \" square\": -3.8155723,\n",
      "            \" sum\": -2.3207192,\n",
      "            \" total\": -3.434156\n",
      "          },\n",
      "          {\n",
      "            \" (\": -4.6967473,\n",
      "            \" and\": -3.591122,\n",
      "            \" of\": -0.31761298,\n",
      "            \",\": -2.838193,\n",
      "            \".\": -3.0300484\n",
      "          },\n",
      "          {\n",
      "            \" of\": -2.733688,\n",
      "            \",\": -2.99942,\n",
      "            \"-\": -3.0176218,\n",
      "            \"ultimate\": -1.276797,\n",
      "            \"umb\": -2.266939\n",
      "          },\n",
      "          {\n",
      "            \"1\": -3.2055013,\n",
      "            \"and\": -3.2504253,\n",
      "            \"n\": -3.8917243,\n",
      "            \"name\": -2.6854093,\n",
      "            \"shape\": -3.892826\n",
      "          },\n",
      "          {\n",
      "            \" and\": -3.6812596,\n",
      "            \" for\": -2.957711,\n",
      "            \" of\": -0.39519098,\n",
      "            \",\": -2.6301458,\n",
      "            \".\": -2.8343809\n",
      "          },\n",
      "          {\n",
      "            \" 1\": -1.529316,\n",
      "            \" 2\": -3.7411082,\n",
      "            \" a\": -3.6330554,\n",
      "            \" all\": -4.1584,\n",
      "            \" the\": -1.2304968\n",
      "          },\n",
      "          {\n",
      "            \" Greek\": -3.8761203,\n",
      "            \" letter\": -3.827009,\n",
      "            \" number\": -2.681446,\n",
      "            \" root\": -3.4315825,\n",
      "            \" word\": -2.895051\n",
      "          },\n",
      "          {\n",
      "            \" boy\": -3.5732453,\n",
      "            \" child\": -3.180488,\n",
      "            \" island\": -2.8544466,\n",
      "            \" number\": -2.6728756,\n",
      "            \" town\": -2.7744496\n",
      "          },\n",
      "          {\n",
      "            \" in\": -2.1948316,\n",
      "            \" of\": -0.7080706,\n",
      "            \" on\": -2.5641603,\n",
      "            \",\": -2.9611325,\n",
      "            \".\": -2.9767635\n",
      "          },\n",
      "          {\n",
      "            \" 1\": -2.0396397,\n",
      "            \" a\": -2.474312,\n",
      "            \" and\": -1.645922,\n",
      "            \" the\": -2.6977494,\n",
      "            \" which\": -2.8872283\n",
      "          },\n",
      "          {\n",
      "            \"\\n\": -1.918349,\n",
      "            \"1\": -1.421519,\n",
      "            \"2\": -2.17405,\n",
      "            \"and\": -2.3983486,\n",
      "            \"which\": -3.2861848\n",
      "          },\n",
      "          {\n",
      "            \" 1\": -2.549234,\n",
      "            \" it\": -3.8175244,\n",
      "            \" the\": -2.6678193,\n",
      "            \",\": -0.5858207,\n",
      "            \":\": -3.038377\n",
      "          },\n",
      "          {\n",
      "            \" 1\": -1.6399479,\n",
      "            \" a\": -3.2962332,\n",
      "            \" if\": -2.7096643,\n",
      "            \" it\": -3.2320175,\n",
      "            \" the\": -1.5323524\n",
      "          }\n",
      "        ]\n",
      "      },\n",
      "      \"text\": \" 1 is the root pen-name of a small branch,\\nThus, we\"\n",
      "    }\n",
      "  ],\n",
      "  \"created\": 1623711917,\n",
      "  \"id\": \"cmpl-3ApvpOgybTTbsGrQT96HV7XPsWZOf\",\n",
      "  \"model\": \"ada:2020-05-03\",\n",
      "  \"object\": \"text_completion\"\n",
      "}\n"
     ]
    }
   ],
   "source": [
    "print(response)"
   ]
  },
  {
   "cell_type": "markdown",
   "metadata": {},
   "source": [
    "That's a lot of text. Let's just grab the most likely first token."
   ]
  },
  {
   "cell_type": "code",
   "execution_count": 19,
   "metadata": {},
   "outputs": [
    {
     "name": "stdout",
     "output_type": "stream",
     "text": [
      "{\n",
      "  \"\\n\": -3.3884075,\n",
      "  \" 1\": -1.1586264,\n",
      "  \" A\": -3.1307986,\n",
      "  \" It\": -3.1697712,\n",
      "  \" The\": -2.7225835\n",
      "}\n"
     ]
    }
   ],
   "source": [
    "print(response['choices'][0]['logprobs']['top_logprobs'][0])"
   ]
  },
  {
   "cell_type": "markdown",
   "metadata": {},
   "source": [
    "Hmm, let's try a smarter engine."
   ]
  },
  {
   "cell_type": "code",
   "execution_count": 22,
   "metadata": {},
   "outputs": [],
   "source": [
    "response = openai.Completion.create(prompt=prompt, engine=\"babbage\", logprobs=5)"
   ]
  },
  {
   "cell_type": "code",
   "execution_count": 24,
   "metadata": {},
   "outputs": [
    {
     "name": "stdout",
     "output_type": "stream",
     "text": [
      " 21.\n",
      "(1 + 1) (1 + 1) = 21.\n"
     ]
    }
   ],
   "source": [
    "print(response['choices'][0]['text'])"
   ]
  },
  {
   "cell_type": "code",
   "execution_count": 25,
   "metadata": {},
   "outputs": [
    {
     "name": "stdout",
     "output_type": "stream",
     "text": [
      "{\n",
      "  \" 1\": -1.3638556,\n",
      "  \" 2\": -1.9325984,\n",
      "  \" 3\": -2.5479558,\n",
      "  \" 4\": -2.9448903,\n",
      "  \" 5\": -3.400267\n",
      "}\n"
     ]
    }
   ],
   "source": [
    "print(response['choices'][0]['logprobs']['top_logprobs'][0])"
   ]
  },
  {
   "cell_type": "code",
   "execution_count": 26,
   "metadata": {},
   "outputs": [],
   "source": [
    "response = openai.Completion.create(prompt=prompt, engine=\"babbage\", logprobs=5, temperature=0)"
   ]
  },
  {
   "cell_type": "markdown",
   "metadata": {},
   "source": [
    "Ah, so it was trying to write out that 1+1=2 and then it was just getting confused!"
   ]
  },
  {
   "cell_type": "code",
   "execution_count": 27,
   "metadata": {},
   "outputs": [
    {
     "name": "stdout",
     "output_type": "stream",
     "text": [
      " 1 + 1 = 2\n",
      "\n",
      "Q: What is the sum of the first\n"
     ]
    }
   ],
   "source": [
    "print(response['choices'][0]['text'])"
   ]
  },
  {
   "cell_type": "markdown",
   "metadata": {},
   "source": [
    "Maybe `ada` could have done it?"
   ]
  },
  {
   "cell_type": "code",
   "execution_count": 28,
   "metadata": {},
   "outputs": [
    {
     "name": "stdout",
     "output_type": "stream",
     "text": [
      " 1 + 1 = 1.\n",
      "\n",
      "This is a question that is often asked\n"
     ]
    }
   ],
   "source": [
    "response = openai.Completion.create(prompt=prompt, engine=\"ada\", logprobs=5, temperature=0)\n",
    "print(response['choices'][0]['text'])"
   ]
  },
  {
   "cell_type": "markdown",
   "metadata": {},
   "source": [
    "Nope it couldn't have. Well, let's see how curie does."
   ]
  },
  {
   "cell_type": "code",
   "execution_count": 29,
   "metadata": {},
   "outputs": [
    {
     "name": "stdout",
     "output_type": "stream",
     "text": [
      " 2\n",
      "Question: What is 2 + 2?\n",
      "Answer: 4\n",
      "Question\n"
     ]
    }
   ],
   "source": [
    "response = openai.Completion.create(prompt=prompt, engine=\"curie\", temperature=0)\n",
    "print(response['choices'][0]['text'])"
   ]
  },
  {
   "cell_type": "markdown",
   "metadata": {},
   "source": [
    "Well, curie understands what we're asking, but it keeps going. Why's it do that?\n",
    "\n",
    "Well, there's a parameter called 'stop' that can take up to 4 sequences for when to stop generating."
   ]
  },
  {
   "cell_type": "code",
   "execution_count": 30,
   "metadata": {},
   "outputs": [
    {
     "name": "stdout",
     "output_type": "stream",
     "text": [
      " 2\n"
     ]
    }
   ],
   "source": [
    "response = openai.Completion.create(prompt=prompt, engine=\"curie\", temperature=0, stop=['\\n'])\n",
    "print(response['choices'][0]['text'])"
   ]
  },
  {
   "cell_type": "code",
   "execution_count": null,
   "metadata": {},
   "outputs": [],
   "source": []
  }
 ],
 "metadata": {
  "kernelspec": {
   "display_name": "Python 3",
   "language": "python",
   "name": "python3"
  },
  "language_info": {
   "codemirror_mode": {
    "name": "ipython",
    "version": 3
   },
   "file_extension": ".py",
   "mimetype": "text/x-python",
   "name": "python",
   "nbconvert_exporter": "python",
   "pygments_lexer": "ipython3",
   "version": "3.8.5"
  }
 },
 "nbformat": 4,
 "nbformat_minor": 4
}
