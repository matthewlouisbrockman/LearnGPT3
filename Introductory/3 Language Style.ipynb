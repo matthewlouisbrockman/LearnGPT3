{
 "cells": [
  {
   "cell_type": "markdown",
   "metadata": {},
   "source": [
    "## 3: Language Style\n",
    "\n",
    "Playing with language and style"
   ]
  },
  {
   "cell_type": "markdown",
   "metadata": {},
   "source": [
    "As before, we'll start with the imports"
   ]
  },
  {
   "cell_type": "code",
   "execution_count": 2,
   "metadata": {},
   "outputs": [],
   "source": [
    "import os, openai, json"
   ]
  },
  {
   "cell_type": "markdown",
   "metadata": {},
   "source": [
    "Now we need to set the API key and (if applicable) the organization you belong to if that's set up. You can manually put them in or bring them in from the environement."
   ]
  },
  {
   "cell_type": "code",
   "execution_count": 3,
   "metadata": {},
   "outputs": [],
   "source": [
    "openai.api_key = os.environ['OPENAI_KEY']"
   ]
  },
  {
   "cell_type": "code",
   "execution_count": 4,
   "metadata": {},
   "outputs": [
    {
     "name": "stdout",
     "output_type": "stream",
     "text": [
      "Organization Added\n"
     ]
    }
   ],
   "source": [
    "try:\n",
    "    openai.organization = os.environ['OPENAI_ORG']\n",
    "    print('Organization Added')\n",
    "except:\n",
    "    print('No Organization')"
   ]
  },
  {
   "cell_type": "code",
   "execution_count": 5,
   "metadata": {},
   "outputs": [],
   "source": [
    "#Run this if you want to use your personal instead of default org\n",
    "openai.organization=None"
   ]
  },
  {
   "cell_type": "markdown",
   "metadata": {},
   "source": [
    "To call openai, we need to do an openai.Completion.create() with a bunch of parameters. To make this easier, we'll create a wrapper function that (1) has some default parameters as well as (2) saves each request/response to file for us.\n",
    "\n",
    "Let's start by creating a folder to drop prompts"
   ]
  },
  {
   "cell_type": "code",
   "execution_count": 6,
   "metadata": {},
   "outputs": [],
   "source": [
    "os.makedirs('prompts', exist_ok=True)"
   ]
  },
  {
   "cell_type": "markdown",
   "metadata": {},
   "source": [
    "now we'll actually make the wrapper function that can take args as well as has defaults"
   ]
  },
  {
   "cell_type": "code",
   "execution_count": 7,
   "metadata": {},
   "outputs": [],
   "source": [
    "def query(prompt, full=False, **kwargs):\n",
    "    modelKwargs = {\n",
    "        'temperature':0,\n",
    "        'engine':'davinci',\n",
    "        'max_tokens':10,\n",
    "        'stop':['\\n']\n",
    "    }\n",
    "    \n",
    "    for kwarg in kwargs:\n",
    "        modelKwargs[kwarg] = kwargs[kwarg]\n",
    "    \n",
    "    completion = openai.Completion.create(prompt=prompt, **modelKwargs)\n",
    "    \n",
    "    with open('prompts/{}.json'.format(completion['id']), 'w') as fh:\n",
    "        json.dump(completion, fh, indent=4)\n",
    "    \n",
    "    if full:\n",
    "        return completion\n",
    "    if 'n' in modelKwargs:\n",
    "        return [x['text'] for x in completion['choices']]\n",
    "    return completion['choices'][0]['text']"
   ]
  },
  {
   "cell_type": "markdown",
   "metadata": {},
   "source": [
    "let's make sure it works!"
   ]
  },
  {
   "cell_type": "code",
   "execution_count": 8,
   "metadata": {},
   "outputs": [
    {
     "data": {
      "text/plain": [
       "'2.'"
      ]
     },
     "execution_count": 8,
     "metadata": {},
     "output_type": "execute_result"
    }
   ],
   "source": [
    "query('1+1=')"
   ]
  },
  {
   "cell_type": "markdown",
   "metadata": {},
   "source": [
    "One of the cool things that GPT learned how to do is language translation. We can do simple translation simply by telling it to translate into French or German. (These may not be great, I don't know lol)"
   ]
  },
  {
   "cell_type": "code",
   "execution_count": 9,
   "metadata": {},
   "outputs": [],
   "source": [
    "prompt = \"\"\"-Translations-\n",
    "English: Where is the library?\n",
    "French:\"\"\""
   ]
  },
  {
   "cell_type": "code",
   "execution_count": 10,
   "metadata": {},
   "outputs": [
    {
     "name": "stdout",
     "output_type": "stream",
     "text": [
      " Où est la bibliothèque\n"
     ]
    }
   ],
   "source": [
    "print(query(prompt))"
   ]
  },
  {
   "cell_type": "code",
   "execution_count": 11,
   "metadata": {},
   "outputs": [],
   "source": [
    "prompt = \"\"\"-Translations-\n",
    "English: Where is the library?\n",
    "German:\"\"\""
   ]
  },
  {
   "cell_type": "code",
   "execution_count": 12,
   "metadata": {},
   "outputs": [
    {
     "name": "stdout",
     "output_type": "stream",
     "text": [
      " Wo ist das Bibliothek?\n"
     ]
    }
   ],
   "source": [
    "print(query(prompt))"
   ]
  },
  {
   "cell_type": "markdown",
   "metadata": {},
   "source": [
    "How's it do on idioms?"
   ]
  },
  {
   "cell_type": "code",
   "execution_count": 15,
   "metadata": {},
   "outputs": [],
   "source": [
    "prompt = \"\"\"-Translations-\n",
    "English: Don't worry, water under the bridge\n",
    "French:\"\"\""
   ]
  },
  {
   "cell_type": "code",
   "execution_count": 18,
   "metadata": {},
   "outputs": [
    {
     "name": "stdout",
     "output_type": "stream",
     "text": [
      " Ne t'en fais pas, ça va passer\n"
     ]
    }
   ],
   "source": [
    "print(query(prompt, max_tokens=30))"
   ]
  },
  {
   "cell_type": "markdown",
   "metadata": {},
   "source": [
    "Cool! (for what it's worth, try that on Google translate). Of course, depending on how you word it, it might do it literally.\n",
    "\n",
    "So what about style? Well, sometimes we want to reword stuff. We did this before with Math if you remember; we came up with one representation of numbers and then translated that into another representation as so:"
   ]
  },
  {
   "cell_type": "code",
   "execution_count": 19,
   "metadata": {},
   "outputs": [
    {
     "name": "stdout",
     "output_type": "stream",
     "text": [
      " 63\n",
      "Spelled Out: Sixty Three\n",
      "\n"
     ]
    }
   ],
   "source": [
    "prompt = \"\"\"Task: Spell out the sum of each math problem.\n",
    "\n",
    "Question: 40 + 50\n",
    "Answer: 90\n",
    "Spelled Out: Ninety\n",
    "\n",
    "Question: 1+1\n",
    "Answer: 2\n",
    "Spelled Out: Two\n",
    "\n",
    "Question: 50 + 80\n",
    "Answer: 130\n",
    "Spelled Out: One hundred and twenty\n",
    "\n",
    "Question: 12 + 52\n",
    "Answer: 64\n",
    "Spelled Out: Sixty Four\n",
    "\n",
    "Question: {}\n",
    "Answer:\"\"\"\n",
    "\n",
    "print(query(prompt.format('51+12'), stop=['\\n\\n']))"
   ]
  },
  {
   "cell_type": "markdown",
   "metadata": {},
   "source": [
    "We can do this with language in general. So let's take a formal statement and make it slangy."
   ]
  },
  {
   "cell_type": "code",
   "execution_count": 20,
   "metadata": {},
   "outputs": [],
   "source": [
    "prompt = \"\"\"Formal: Hello it is nice to you. My name is Mr. Bot.\n",
    "Informal:\"\"\""
   ]
  },
  {
   "cell_type": "code",
   "execution_count": 21,
   "metadata": {},
   "outputs": [
    {
     "name": "stdout",
     "output_type": "stream",
     "text": [
      " Hi, my name is Mr. Bot.\n"
     ]
    }
   ],
   "source": [
    "print(query(prompt))"
   ]
  },
  {
   "cell_type": "markdown",
   "metadata": {},
   "source": [
    "It can also change words based on context"
   ]
  },
  {
   "cell_type": "code",
   "execution_count": 44,
   "metadata": {},
   "outputs": [],
   "source": [
    "prompt = \"\"\"American English: I love how that elevator is my favorite color, yellow.\n",
    "Re-written as said by a Brit:\"\"\""
   ]
  },
  {
   "cell_type": "code",
   "execution_count": 45,
   "metadata": {},
   "outputs": [
    {
     "name": "stdout",
     "output_type": "stream",
     "text": [
      " I love how that lift is my favourite colour, yellow.\n"
     ]
    }
   ],
   "source": [
    "print(query(prompt, max_tokens=30))"
   ]
  },
  {
   "cell_type": "markdown",
   "metadata": {},
   "source": [
    "Oddly, that doesn't work for translating elevator to lift if we don't include the color and I don't know why, but we can fix that by giving a prefix of the task along with a completed example (1 shot)."
   ]
  },
  {
   "cell_type": "code",
   "execution_count": 47,
   "metadata": {},
   "outputs": [
    {
     "name": "stdout",
     "output_type": "stream",
     "text": [
      " I love how that elevator is my favourite colour.\n"
     ]
    }
   ],
   "source": [
    "prompt = \"\"\"American English: I love how that elevator is my favorite color.\n",
    "Re-written as said by a Brit:\"\"\"\n",
    "print(query(prompt, max_tokens=30))"
   ]
  },
  {
   "cell_type": "code",
   "execution_count": 51,
   "metadata": {},
   "outputs": [
    {
     "name": "stdout",
     "output_type": "stream",
     "text": [
      " I love how that lift is my favourite colour.\n"
     ]
    }
   ],
   "source": [
    "prompt = \"\"\"People in different places spell/say things differently.\n",
    "\n",
    "American: Look, a truck!\n",
    "Brit: Look, a lorry!\n",
    "\n",
    "American: I love how that elevator is my favorite color.\n",
    "Brit:\"\"\"\n",
    "print(query(prompt, max_tokens=30))"
   ]
  },
  {
   "cell_type": "markdown",
   "metadata": {},
   "source": [
    "We can also use it to re-word concepts"
   ]
  },
  {
   "cell_type": "code",
   "execution_count": 53,
   "metadata": {},
   "outputs": [
    {
     "name": "stdout",
     "output_type": "stream",
     "text": [
      " A lot of people bet that GME would go down.\n"
     ]
    }
   ],
   "source": [
    "prompt = \"\"\"Sometimes you need to re-word things so kids can understand them.\n",
    "\n",
    "Original: Man the tax rate is killing me right now.\n",
    "Reworded for Kids: We have to give the government a lot of money\n",
    "\n",
    "Original: A lot of people shorted GME.\n",
    "Reworded for Kids:\"\"\"\n",
    "print(query(prompt, max_tokens=30))"
   ]
  },
  {
   "cell_type": "code",
   "execution_count": 57,
   "metadata": {},
   "outputs": [
    {
     "name": "stdout",
     "output_type": "stream",
     "text": [
      " A lot of people bet against GME. However, other people made them pay up.\n"
     ]
    }
   ],
   "source": [
    "prompt = \"\"\"Sometimes you need to re-word things so kids can understand them.\n",
    "\n",
    "Original: Man the tax rate is killing me right now.\n",
    "Reworded for Kids: We have to give the government a lot of money\n",
    "\n",
    "Original: A lot of people shorted GME. However, other people squeezed the stock to make them cover.\n",
    "Reworded for Kids:\"\"\"\n",
    "print(query(prompt, max_tokens=30))"
   ]
  },
  {
   "cell_type": "code",
   "execution_count": 62,
   "metadata": {},
   "outputs": [
    {
     "name": "stdout",
     "output_type": "stream",
     "text": [
      " My team lost but at the last minute they scored to make the score closer to what the bookies predicted.\n"
     ]
    }
   ],
   "source": [
    "prompt = \"\"\"Sometimes you need to re-word things so kids can understand them.\n",
    "\n",
    "Original: Man the tax rate is killing me right now.\n",
    "Reworded for Kids: We have to give the government a lot of money\n",
    "\n",
    "Original: My team lost but at at the last minute they scored to cover the spread.\n",
    "Reworded for Kids:\"\"\"\n",
    "print(query(prompt, max_tokens=30))"
   ]
  },
  {
   "cell_type": "markdown",
   "metadata": {},
   "source": [
    "Depending on what you want your outputs to look like you might need multiple tries. We can do cool stuff with this sort of thing in different contexts. E.g. let's take some tweets from CNN and Fox and see what happens if we use them as examples."
   ]
  },
  {
   "cell_type": "markdown",
   "metadata": {},
   "source": [
    "inputs:\n",
    "Biden Nato Speech:\n",
    "\n",
    "https://www.cnn.com/2021/06/14/politics/joe-biden-phony-populism-nato/index.html\n",
    "\n",
    "https://www.foxnews.com/politics/biden-trump-republicans-nato-foreign-soil"
   ]
  },
  {
   "cell_type": "code",
   "execution_count": 64,
   "metadata": {},
   "outputs": [],
   "source": [
    "prompt = \"\"\"Event: Biden gives speech at NATO about fighting populism\n",
    "CNN Headline: Biden says NATO must protect against 'phony populism'\n",
    "\n",
    "Event: Biden gives speech at NATO about fighting populism\n",
    "Fox Headline: Biden slams Republicans while on foreign soil in break with political norms\n",
    "\n",
    "Event: {}\n",
    "{} Headline\"\"\""
   ]
  },
  {
   "cell_type": "code",
   "execution_count": 68,
   "metadata": {},
   "outputs": [
    {
     "name": "stdout",
     "output_type": "stream",
     "text": [
      ": Congress passes tax breaks for middle class\n",
      ": Congress passes tax breaks for the rich\n"
     ]
    }
   ],
   "source": [
    "event = 'Congress passes tax breaks'\n",
    "print(query(prompt.format(event, 'CNN')))\n",
    "print(query(prompt.format(event, 'Fox')))"
   ]
  },
  {
   "cell_type": "code",
   "execution_count": 69,
   "metadata": {},
   "outputs": [
    {
     "name": "stdout",
     "output_type": "stream",
     "text": [
      ": Immigration arrests up 38% under Trump\n",
      ": Illegal immigration up 40% in 2017\n"
     ]
    }
   ],
   "source": [
    "event = 'Immigration goes up'\n",
    "print(query(prompt.format(event, 'CNN')))\n",
    "print(query(prompt.format(event, 'Fox')))"
   ]
  },
  {
   "cell_type": "code",
   "execution_count": 72,
   "metadata": {},
   "outputs": [
    {
     "name": "stdout",
     "output_type": "stream",
     "text": [
      ": California drought: Gov. Jerry Brown declares state\n",
      ": California drought is a hoax, says California farmer\n"
     ]
    }
   ],
   "source": [
    "event = 'Drought impacts California'\n",
    "print(query(prompt.format(event, 'CNN')))\n",
    "print(query(prompt.format(event, 'Fox')))"
   ]
  },
  {
   "cell_type": "markdown",
   "metadata": {},
   "source": [
    "It's worth noting GPT3's training ended a couple years ago so some things got picked up on. Of course, there's all sorts of biases etc. that end up in these sets that are worth considering when using the model for different tasks. We can also get funner outputs using the temperature parameter, so we're not using the most likely next token each time."
   ]
  },
  {
   "cell_type": "code",
   "execution_count": 79,
   "metadata": {},
   "outputs": [
    {
     "name": "stdout",
     "output_type": "stream",
     "text": [
      ": U.S. must support France in war on Spain, Biden says\n",
      ": France declares war on Spain after Spain refuses to allow refugees to enter\n",
      ": France declares war on Spain\n",
      ": French Military Prepared to Destroy Entire Nation of Spain\n"
     ]
    }
   ],
   "source": [
    "event = 'France declares war on Spain'\n",
    "print(query(prompt.format(event, 'CNN'), max_tokens=30, temperature=.5))\n",
    "print(query(prompt.format(event, 'Fox'), max_tokens=30, temperature=.5))\n",
    "print(query(prompt.format(event, 'BBC'), max_tokens=30, temperature=.5))\n",
    "print(query(prompt.format(event, 'The Onion'), max_tokens=30, temperature=.5))"
   ]
  },
  {
   "cell_type": "code",
   "execution_count": 80,
   "metadata": {},
   "outputs": [
    {
     "name": "stdout",
     "output_type": "stream",
     "text": [
      ": Report: France declares war on Spain\n",
      ": France declares war on Spain\n",
      ": France declares war on Spain\n",
      ": France Declares War on Spain\n"
     ]
    }
   ],
   "source": [
    "event = 'France declares war on Spain'\n",
    "print(query(prompt.format(event, 'CNN'), max_tokens=30, temperature=.5))\n",
    "print(query(prompt.format(event, 'Fox'), max_tokens=30, temperature=.5))\n",
    "print(query(prompt.format(event, 'BBC'), max_tokens=30, temperature=.5))\n",
    "print(query(prompt.format(event, 'The Onion'), max_tokens=30, temperature=.5))"
   ]
  },
  {
   "cell_type": "markdown",
   "metadata": {},
   "source": [
    "We can get it to get really creative by increasing the temperature further"
   ]
  },
  {
   "cell_type": "code",
   "execution_count": 81,
   "metadata": {},
   "outputs": [
    {
     "name": "stdout",
     "output_type": "stream",
     "text": [
      ": France declares war on Spain, says the government rightfully split from citizens meeting key demands\n",
      ": France attacks the Pyrenees.\n",
      ": Armistice is reached with Spain\n",
      ": In Terrifying Sign Of Things To Come, ISIS Continues Unabated\n"
     ]
    }
   ],
   "source": [
    "event = 'France declares war on Spain'\n",
    "print(query(prompt.format(event, 'CNN'), max_tokens=30, temperature=1))\n",
    "print(query(prompt.format(event, 'Fox'), max_tokens=30, temperature=1))\n",
    "print(query(prompt.format(event, 'BBC'), max_tokens=30, temperature=1))\n",
    "print(query(prompt.format(event, 'The Onion'), max_tokens=30, temperature=1))"
   ]
  },
  {
   "cell_type": "markdown",
   "metadata": {},
   "source": [
    "At temperature about 1 it just goes way off track"
   ]
  },
  {
   "cell_type": "code",
   "execution_count": 82,
   "metadata": {},
   "outputs": [
    {
     "name": "stdout",
     "output_type": "stream",
     "text": [
      "：France Declares war 5 different out of 75\n",
      ": Right in city named japan places between the indians ill fated organization\n",
      ":  Hungary expected to ship last thousands migrants after chaotic borders quota launch ======================================= SUPER POWER USA Back in History Jan -- Why must Elizabeth buck? 27\n",
      ": It's Definitely Effin Illegal\n"
     ]
    }
   ],
   "source": [
    "event = 'France declares war on Spain'\n",
    "print(query(prompt.format(event, 'CNN'), max_tokens=30, temperature=1.5))\n",
    "print(query(prompt.format(event, 'Fox'), max_tokens=30, temperature=1.5))\n",
    "print(query(prompt.format(event, 'BBC'), max_tokens=30, temperature=1.5))\n",
    "print(query(prompt.format(event, 'The Onion'), max_tokens=30, temperature=1.5))"
   ]
  },
  {
   "cell_type": "markdown",
   "metadata": {},
   "source": [
    "So this gets to a more common theme: writing text in the style of someone else. Try it!"
   ]
  },
  {
   "cell_type": "code",
   "execution_count": 83,
   "metadata": {},
   "outputs": [],
   "source": [
    "prompt = \"\"\"\n",
    "YOUR PROMPT HERE\n",
    "\"\"\""
   ]
  },
  {
   "cell_type": "code",
   "execution_count": null,
   "metadata": {},
   "outputs": [],
   "source": []
  }
 ],
 "metadata": {
  "kernelspec": {
   "display_name": "Python 3",
   "language": "python",
   "name": "python3"
  },
  "language_info": {
   "codemirror_mode": {
    "name": "ipython",
    "version": 3
   },
   "file_extension": ".py",
   "mimetype": "text/x-python",
   "name": "python",
   "nbconvert_exporter": "python",
   "pygments_lexer": "ipython3",
   "version": "3.8.5"
  }
 },
 "nbformat": 4,
 "nbformat_minor": 4
}
