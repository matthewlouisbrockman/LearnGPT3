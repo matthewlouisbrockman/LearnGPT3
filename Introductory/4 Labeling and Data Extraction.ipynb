{
 "cells": [
  {
   "cell_type": "markdown",
   "metadata": {},
   "source": [
    "## 4: Labeling and Data Extraction\n",
    "\n",
    "Labeling and extracting data"
   ]
  },
  {
   "cell_type": "markdown",
   "metadata": {},
   "source": [
    "As before, we'll start with the imports"
   ]
  },
  {
   "cell_type": "code",
   "execution_count": 1,
   "metadata": {},
   "outputs": [],
   "source": [
    "import os, openai, json"
   ]
  },
  {
   "cell_type": "markdown",
   "metadata": {},
   "source": [
    "Now we need to set the API key and (if applicable) the organization you belong to if that's set up. You can manually put them in or bring them in from the environement."
   ]
  },
  {
   "cell_type": "code",
   "execution_count": 2,
   "metadata": {},
   "outputs": [],
   "source": [
    "openai.api_key = os.environ['OPENAI_KEY']"
   ]
  },
  {
   "cell_type": "code",
   "execution_count": 3,
   "metadata": {},
   "outputs": [
    {
     "name": "stdout",
     "output_type": "stream",
     "text": [
      "Organization Added\n"
     ]
    }
   ],
   "source": [
    "try:\n",
    "    openai.organization = os.environ['OPENAI_ORG']\n",
    "    print('Organization Added')\n",
    "except:\n",
    "    print('No Organization')"
   ]
  },
  {
   "cell_type": "code",
   "execution_count": 4,
   "metadata": {},
   "outputs": [],
   "source": [
    "#Run this if you want to use your personal instead of default org\n",
    "openai.organization=None"
   ]
  },
  {
   "cell_type": "markdown",
   "metadata": {},
   "source": [
    "To call openai, we need to do an openai.Completion.create() with a bunch of parameters. To make this easier, we'll create a wrapper function that (1) has some default parameters as well as (2) saves each request/response to file for us.\n",
    "\n",
    "Let's start by creating a folder to drop prompts"
   ]
  },
  {
   "cell_type": "code",
   "execution_count": 5,
   "metadata": {},
   "outputs": [],
   "source": [
    "os.makedirs('prompts', exist_ok=True)"
   ]
  },
  {
   "cell_type": "markdown",
   "metadata": {},
   "source": [
    "now we'll actually make the wrapper function that can take args as well as has defaults"
   ]
  },
  {
   "cell_type": "code",
   "execution_count": 6,
   "metadata": {},
   "outputs": [],
   "source": [
    "def query(prompt, full=False, **kwargs):\n",
    "    modelKwargs = {\n",
    "        'temperature':0,\n",
    "        'engine':'davinci',\n",
    "        'max_tokens':10,\n",
    "        'stop':['\\n']\n",
    "    }\n",
    "    \n",
    "    for kwarg in kwargs:\n",
    "        modelKwargs[kwarg] = kwargs[kwarg]\n",
    "    \n",
    "    completion = openai.Completion.create(prompt=prompt, **modelKwargs)\n",
    "    \n",
    "    with open('prompts/{}.json'.format(completion['id']), 'w') as fh:\n",
    "        json.dump(completion, fh, indent=4)\n",
    "    \n",
    "    if full:\n",
    "        return completion\n",
    "    if 'n' in modelKwargs:\n",
    "        return [x['text'] for x in completion['choices']]\n",
    "    return completion['choices'][0]['text']"
   ]
  },
  {
   "cell_type": "markdown",
   "metadata": {},
   "source": [
    "let's make sure it works!"
   ]
  },
  {
   "cell_type": "code",
   "execution_count": 8,
   "metadata": {},
   "outputs": [
    {
     "data": {
      "text/plain": [
       "'2.'"
      ]
     },
     "execution_count": 8,
     "metadata": {},
     "output_type": "execute_result"
    }
   ],
   "source": [
    "query('1+1=')"
   ]
  },
  {
   "cell_type": "markdown",
   "metadata": {},
   "source": [
    "Let's start with a dataset, say, a CSV"
   ]
  },
  {
   "cell_type": "code",
   "execution_count": 11,
   "metadata": {},
   "outputs": [
    {
     "data": {
      "text/plain": [
       "',name,age,pet\\n0,bob,25,turtle\\n1,tom,18,squid\\n'"
      ]
     },
     "execution_count": 11,
     "metadata": {},
     "output_type": "execute_result"
    }
   ],
   "source": [
    "import pandas as pd\n",
    "foo = [{'name':'bob', 'age':25, 'pet':'turtle'}, {'name':'tom', 'age':18, 'pet':'squid'}]\n",
    "pd.DataFrame(foo).to_csv()"
   ]
  },
  {
   "cell_type": "code",
   "execution_count": 16,
   "metadata": {},
   "outputs": [],
   "source": [
    "prompt = \"\"\"',name,age,pet\\n0,bob,25,turtle\\n1,tom,18,squid\\n'\n",
    "names: bob, tom\n",
    "pets:\"\"\""
   ]
  },
  {
   "cell_type": "code",
   "execution_count": 17,
   "metadata": {},
   "outputs": [
    {
     "data": {
      "text/plain": [
       "' turtle, squid'"
      ]
     },
     "execution_count": 17,
     "metadata": {},
     "output_type": "execute_result"
    }
   ],
   "source": [
    "query(prompt)"
   ]
  },
  {
   "cell_type": "markdown",
   "metadata": {},
   "source": [
    "So what if we double up on the colors and add more info?"
   ]
  },
  {
   "cell_type": "code",
   "execution_count": 21,
   "metadata": {
    "scrolled": true
   },
   "outputs": [
    {
     "data": {
      "text/plain": [
       "',name,age,pet,color\\n0,bob,25,turtle,brown\\n1,tom,18,squid,pink\\n2,jerry,50,squid,red\\n'"
      ]
     },
     "execution_count": 21,
     "metadata": {},
     "output_type": "execute_result"
    }
   ],
   "source": [
    "foo = [{'name':'bob', 'age':25, 'pet':'turtle', 'color':'brown'}, {'name':'tom', 'age':18, 'pet':'squid', 'color':'pink'}, {'name':'jerry', 'age':50, 'pet':'squid', 'color':'red'}]\n",
    "pd.DataFrame(foo).to_csv()"
   ]
  },
  {
   "cell_type": "code",
   "execution_count": 34,
   "metadata": {},
   "outputs": [],
   "source": [
    "prompt = \"\"\"',name,age,pet,color\\n0,bob,25,turtle,brown\\n1,tom,18,squid,pink\\n2,jerry,50,squid,red\\n'\n",
    "colors:\n",
    "turtles: ['brown']\n",
    "\"\"\""
   ]
  },
  {
   "cell_type": "code",
   "execution_count": 35,
   "metadata": {},
   "outputs": [
    {
     "data": {
      "text/plain": [
       "\"squids: ['pink', 'red']\""
      ]
     },
     "execution_count": 35,
     "metadata": {},
     "output_type": "execute_result"
    }
   ],
   "source": [
    "query(prompt, stop=['\\n\\n'], max_tokens=30)"
   ]
  },
  {
   "cell_type": "markdown",
   "metadata": {},
   "source": [
    "Cool! it can pull out that the squids are pink and red"
   ]
  },
  {
   "cell_type": "markdown",
   "metadata": {},
   "source": [
    "What about categories?"
   ]
  },
  {
   "cell_type": "code",
   "execution_count": 40,
   "metadata": {},
   "outputs": [],
   "source": [
    "prompt = \"\"\"',name,age,pet,color\\n0,bob,25,turtle,brown\\n1,tom,18,squid,pink\\n2,jerry,50,squid,red\\n'\n",
    "Reptile Owners: ['bob']\n",
    "Mollusk Owners:\"\"\""
   ]
  },
  {
   "cell_type": "code",
   "execution_count": 41,
   "metadata": {},
   "outputs": [
    {
     "data": {
      "text/plain": [
       "\" ['tom', 'jerry']\""
      ]
     },
     "execution_count": 41,
     "metadata": {},
     "output_type": "execute_result"
    }
   ],
   "source": [
    "query(prompt)"
   ]
  },
  {
   "cell_type": "markdown",
   "metadata": {},
   "source": [
    "But we want to make sur that isn't by chance, so let's add another animal in case"
   ]
  },
  {
   "cell_type": "code",
   "execution_count": 42,
   "metadata": {},
   "outputs": [
    {
     "data": {
      "text/plain": [
       "',name,age,pet,color\\n0,bob,25,turtle,brown\\n1,tom,18,squid,pink\\n2,jerry,50,squid,red\\n3,amy,32,horse,\"brown, white\"\\n'"
      ]
     },
     "execution_count": 42,
     "metadata": {},
     "output_type": "execute_result"
    }
   ],
   "source": [
    "foo = [{'name':'bob', 'age':25, 'pet':'turtle', 'color':'brown'}, {'name':'tom', 'age':18, 'pet':'squid', 'color':'pink'}, {'name':'jerry', 'age':50, 'pet':'squid', 'color':'red'}, {'name':'amy', 'age':32, 'pet':'horse', 'color':'brown, white'}]\n",
    "pd.DataFrame(foo).to_csv()"
   ]
  },
  {
   "cell_type": "code",
   "execution_count": 43,
   "metadata": {},
   "outputs": [],
   "source": [
    "prompt = \"\"\"',name,age,pet,color\\n0,bob,25,turtle,brown\\n1,tom,18,squid,pink\\n2,jerry,50,squid,red\\n3,amy,32,horse,\"brown, white\"\\n'\n",
    "\n",
    "Reptile Owners: ['bob']\n",
    "Mollusk Owners:\"\"\""
   ]
  },
  {
   "cell_type": "code",
   "execution_count": 44,
   "metadata": {},
   "outputs": [
    {
     "data": {
      "text/plain": [
       "\" ['tom', 'jerry']\""
      ]
     },
     "execution_count": 44,
     "metadata": {},
     "output_type": "execute_result"
    }
   ],
   "source": [
    "query(prompt)"
   ]
  },
  {
   "cell_type": "markdown",
   "metadata": {},
   "source": [
    "pretty cool!\n",
    "\n",
    "So how can we do this if we don't know the labels ahead of time? What if we want to come up with labels for each input. Well, let's try this with sentiment analysis."
   ]
  },
  {
   "cell_type": "code",
   "execution_count": 47,
   "metadata": {},
   "outputs": [],
   "source": [
    "prompt = \"\"\"Review: I thought the movie sucked.\n",
    "Sentiment: negative\n",
    "\n",
    "Review:{}\n",
    "Sentiment:\"\"\""
   ]
  },
  {
   "cell_type": "code",
   "execution_count": 49,
   "metadata": {},
   "outputs": [
    {
     "data": {
      "text/plain": [
       "' positive'"
      ]
     },
     "execution_count": 49,
     "metadata": {},
     "output_type": "execute_result"
    }
   ],
   "source": [
    "query(prompt.format('The movie was great!'))"
   ]
  },
  {
   "cell_type": "code",
   "execution_count": 48,
   "metadata": {},
   "outputs": [
    {
     "data": {
      "text/plain": [
       "' negative'"
      ]
     },
     "execution_count": 48,
     "metadata": {},
     "output_type": "execute_result"
    }
   ],
   "source": [
    "query(prompt.format('The movie was great... if you were blind'))"
   ]
  },
  {
   "cell_type": "markdown",
   "metadata": {},
   "source": [
    "Pretty cool, but what else can you pull from it?"
   ]
  },
  {
   "cell_type": "code",
   "execution_count": 54,
   "metadata": {},
   "outputs": [],
   "source": [
    "prompt = \"\"\"Review: I thought the movie sucked.\n",
    "Sentiment: Negative\n",
    "Mood: Serious\n",
    "\n",
    "Review: The movie was great... if you were blind.\n",
    "Sentiment: Negative\n",
    "Mood: Sarcastic\n",
    "\n",
    "Review:{}\n",
    "Sentiment:\"\"\""
   ]
  },
  {
   "cell_type": "code",
   "execution_count": 55,
   "metadata": {},
   "outputs": [
    {
     "name": "stdout",
     "output_type": "stream",
     "text": [
      " Positive\n",
      "Mood: Happy\n"
     ]
    }
   ],
   "source": [
    "r = query(prompt.format('The movie was great!'), stop=['\\n\\n'])\n",
    "print(r)"
   ]
  },
  {
   "cell_type": "code",
   "execution_count": 56,
   "metadata": {},
   "outputs": [
    {
     "name": "stdout",
     "output_type": "stream",
     "text": [
      " Positive\n",
      "Mood: Excited\n"
     ]
    }
   ],
   "source": [
    "r = query(prompt.format('That movie was so bad I loved it'), stop=['\\n\\n'])\n",
    "print(r)"
   ]
  },
  {
   "cell_type": "code",
   "execution_count": 57,
   "metadata": {},
   "outputs": [
    {
     "name": "stdout",
     "output_type": "stream",
     "text": [
      " Negative\n",
      "Mood: Sarcastic\n"
     ]
    }
   ],
   "source": [
    "r = query(prompt.format('The director seemed to want to just take a shit on the audience'), stop=['\\n\\n'])\n",
    "print(r)"
   ]
  },
  {
   "cell_type": "code",
   "execution_count": 59,
   "metadata": {},
   "outputs": [
    {
     "name": "stdout",
     "output_type": "stream",
     "text": [
      " Negative\n",
      "Mood: Disappointed\n"
     ]
    }
   ],
   "source": [
    "r = query(prompt.format('The actors did their best with a bad script but it was still a bad movie'), stop=['\\n\\n'])\n",
    "print(r)"
   ]
  },
  {
   "cell_type": "markdown",
   "metadata": {},
   "source": [
    "Cool, so we can see GPT goes and starts applying its own labels that we hadn't given it. We can modify the available moods it has by including them at the start."
   ]
  },
  {
   "cell_type": "code",
   "execution_count": 64,
   "metadata": {},
   "outputs": [],
   "source": [
    "prompt = \"\"\"Movie review sentiments fall in [Positive, Negative] and the mood can be either [Serious, Sarcastic]\n",
    "\n",
    "Review: I thought the movie sucked.\n",
    "Sentiment: Negative\n",
    "Mood: Serious\n",
    "\n",
    "Review: The movie was great... if you were blind.\n",
    "Sentiment: Negative\n",
    "Mood: Sarcastic\n",
    "\n",
    "Review:{}\n",
    "Sentiment:\"\"\""
   ]
  },
  {
   "cell_type": "code",
   "execution_count": 65,
   "metadata": {},
   "outputs": [
    {
     "name": "stdout",
     "output_type": "stream",
     "text": [
      " Negative\n",
      "Mood: Serious\n"
     ]
    }
   ],
   "source": [
    "r = query(prompt.format('The actors did their best with a bad script but it was still a bad movie'), stop=['\\n\\n'])\n",
    "print(r)"
   ]
  },
  {
   "cell_type": "code",
   "execution_count": 66,
   "metadata": {},
   "outputs": [
    {
     "name": "stdout",
     "output_type": "stream",
     "text": [
      " Negative\n",
      "Mood: Serious\n"
     ]
    }
   ],
   "source": [
    "r = query(prompt.format('The director seemed to want to just take a shit on the audience'), stop=['\\n\\n'])\n",
    "print(r)"
   ]
  },
  {
   "cell_type": "code",
   "execution_count": 68,
   "metadata": {},
   "outputs": [
    {
     "name": "stdout",
     "output_type": "stream",
     "text": [
      " Positive\n",
      "Mood: Sarcastic\n"
     ]
    }
   ],
   "source": [
    "r = query(prompt.format('The movie flopped... right into my heart'), stop=['\\n\\n'])\n",
    "print(r)"
   ]
  },
  {
   "cell_type": "markdown",
   "metadata": {},
   "source": [
    "K, I might not be the best movie reviewer of all time.\n",
    "\n",
    "What labels would you want to try to extract/create?"
   ]
  },
  {
   "cell_type": "code",
   "execution_count": 69,
   "metadata": {},
   "outputs": [],
   "source": [
    "prompt = \"\"\"\n",
    "YOUR PROMPT\"\"\""
   ]
  },
  {
   "cell_type": "code",
   "execution_count": null,
   "metadata": {},
   "outputs": [],
   "source": []
  }
 ],
 "metadata": {
  "kernelspec": {
   "display_name": "Python 3",
   "language": "python",
   "name": "python3"
  },
  "language_info": {
   "codemirror_mode": {
    "name": "ipython",
    "version": 3
   },
   "file_extension": ".py",
   "mimetype": "text/x-python",
   "name": "python",
   "nbconvert_exporter": "python",
   "pygments_lexer": "ipython3",
   "version": "3.8.5"
  }
 },
 "nbformat": 4,
 "nbformat_minor": 4
}
