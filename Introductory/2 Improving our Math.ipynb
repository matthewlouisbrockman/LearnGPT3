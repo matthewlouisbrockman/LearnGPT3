{
 "cells": [
  {
   "cell_type": "markdown",
   "metadata": {},
   "source": [
    "## 2: Improving our Math\n",
    "\n",
    "In the previous notebook we played with some basic parameters. Let's tighten up on our math outputs here."
   ]
  },
  {
   "cell_type": "markdown",
   "metadata": {},
   "source": [
    "As before, we'll start with the imports"
   ]
  },
  {
   "cell_type": "code",
   "execution_count": 5,
   "metadata": {},
   "outputs": [],
   "source": [
    "import os, openai, json"
   ]
  },
  {
   "cell_type": "markdown",
   "metadata": {},
   "source": [
    "Now we need to set the API key and (if applicable) the organization you belong to if that's set up. You can manually put them in or bring them in from the environement."
   ]
  },
  {
   "cell_type": "code",
   "execution_count": 2,
   "metadata": {},
   "outputs": [],
   "source": [
    "openai.api_key = os.environ['OPENAI_KEY']"
   ]
  },
  {
   "cell_type": "code",
   "execution_count": 3,
   "metadata": {},
   "outputs": [
    {
     "name": "stdout",
     "output_type": "stream",
     "text": [
      "Organization Added\n"
     ]
    }
   ],
   "source": [
    "try:\n",
    "    openai.organization = os.environ['OPENAI_ORG']\n",
    "    print('Organization Added')\n",
    "except:\n",
    "    print('No Organization')"
   ]
  },
  {
   "cell_type": "markdown",
   "metadata": {},
   "source": [
    "Run this if you want to charge your personal instead of org"
   ]
  },
  {
   "cell_type": "code",
   "execution_count": 4,
   "metadata": {},
   "outputs": [],
   "source": [
    "#openai.organization=None"
   ]
  },
  {
   "cell_type": "markdown",
   "metadata": {},
   "source": [
    "To call openai, we need to do an openai.Completion.create() with a bunch of parameters. To make this easier, we'll create a wrapper function that (1) has some default parameters as well as (2) saves each request/response to file for us.\n",
    "\n",
    "Let's start by creating a folder to drop prompts"
   ]
  },
  {
   "cell_type": "code",
   "execution_count": 6,
   "metadata": {},
   "outputs": [],
   "source": [
    "os.makedirs('prompts', exist_ok=True)"
   ]
  },
  {
   "cell_type": "markdown",
   "metadata": {},
   "source": [
    "now we'll actually make the wrapper function that can take args as well as has defaults"
   ]
  },
  {
   "cell_type": "code",
   "execution_count": 24,
   "metadata": {},
   "outputs": [],
   "source": [
    "def query(prompt, full=False, **kwargs):\n",
    "    modelKwargs = {\n",
    "        'temperature':0,\n",
    "        'engine':'davinci',\n",
    "        'max_tokens':10,\n",
    "        'stop':['\\n']\n",
    "    }\n",
    "    \n",
    "    for kwarg in kwargs:\n",
    "        modelKwargs[kwarg] = kwargs[kwarg]\n",
    "    \n",
    "    completion = openai.Completion.create(prompt=prompt, **modelKwargs)\n",
    "    \n",
    "    with open('prompts/{}.json'.format(completion['id']), 'w') as fh:\n",
    "        json.dump(completion, fh, indent=4)\n",
    "    \n",
    "    if full:\n",
    "        return completion\n",
    "    if 'n' in modelKwargs:\n",
    "        return [x['text'] for x in completion['choices']]\n",
    "    return completion['choices'][0]['text']"
   ]
  },
  {
   "cell_type": "markdown",
   "metadata": {},
   "source": [
    "let's make sure it works!"
   ]
  },
  {
   "cell_type": "code",
   "execution_count": 27,
   "metadata": {},
   "outputs": [
    {
     "data": {
      "text/plain": [
       "'2.'"
      ]
     },
     "execution_count": 27,
     "metadata": {},
     "output_type": "execute_result"
    }
   ],
   "source": [
    "query('1+1=')"
   ]
  },
  {
   "cell_type": "markdown",
   "metadata": {},
   "source": [
    "K, so for an example, we'll see if we can have our model spit out the written form of each addition problem rather than the numeral. E.g., instead of 1+1=2, we want 1+1=two.\n",
    "\n",
    "We can use string formatting to set up the prompt for us to test different inputs. We'll give it a single example and see if that's enough for it to pattern match."
   ]
  },
  {
   "cell_type": "code",
   "execution_count": 25,
   "metadata": {},
   "outputs": [],
   "source": [
    "prompt = \"\"\"Question: 1+1\n",
    "Answer:two\n",
    "\n",
    "Question: {}\n",
    "Answer:\"\"\""
   ]
  },
  {
   "cell_type": "code",
   "execution_count": 29,
   "metadata": {},
   "outputs": [
    {
     "name": "stdout",
     "output_type": "stream",
     "text": [
      "Question: 1+1\n",
      "Answer:two\n",
      "\n",
      "Question: FOO\n",
      "Answer:\n"
     ]
    }
   ],
   "source": [
    "print(prompt.format('FOO'))"
   ]
  },
  {
   "cell_type": "code",
   "execution_count": 26,
   "metadata": {},
   "outputs": [
    {
     "data": {
      "text/plain": [
       "'four'"
      ]
     },
     "execution_count": 26,
     "metadata": {},
     "output_type": "execute_result"
    }
   ],
   "source": [
    "query(prompt.format('2+2'))"
   ]
  },
  {
   "cell_type": "code",
   "execution_count": 28,
   "metadata": {},
   "outputs": [
    {
     "data": {
      "text/plain": [
       "'nine'"
      ]
     },
     "execution_count": 28,
     "metadata": {},
     "output_type": "execute_result"
    }
   ],
   "source": [
    "query(prompt.format('5+4'))"
   ]
  },
  {
   "cell_type": "markdown",
   "metadata": {},
   "source": [
    "Well, how's it do when we get above single digit numbers?"
   ]
  },
  {
   "cell_type": "code",
   "execution_count": 30,
   "metadata": {},
   "outputs": [
    {
     "data": {
      "text/plain": [
       "'15'"
      ]
     },
     "execution_count": 30,
     "metadata": {},
     "output_type": "execute_result"
    }
   ],
   "source": [
    "query(prompt.format('5+10'))"
   ]
  },
  {
   "cell_type": "code",
   "execution_count": 31,
   "metadata": {},
   "outputs": [
    {
     "data": {
      "text/plain": [
       "'25'"
      ]
     },
     "execution_count": 31,
     "metadata": {},
     "output_type": "execute_result"
    }
   ],
   "source": [
    "query(prompt.format('15+10'))"
   ]
  },
  {
   "cell_type": "markdown",
   "metadata": {},
   "source": [
    "We can expand the prompt so it covers larger numbers too"
   ]
  },
  {
   "cell_type": "code",
   "execution_count": 32,
   "metadata": {},
   "outputs": [],
   "source": [
    "prompt = \"\"\"Question: 1+1\n",
    "Answer: two\n",
    "\n",
    "Question: 12 + 52\n",
    "Answer: sixty-four\n",
    "\n",
    "Question: {}\n",
    "Answer:\"\"\""
   ]
  },
  {
   "cell_type": "code",
   "execution_count": 33,
   "metadata": {
    "scrolled": true
   },
   "outputs": [
    {
     "data": {
      "text/plain": [
       "' twenty-five'"
      ]
     },
     "execution_count": 33,
     "metadata": {},
     "output_type": "execute_result"
    }
   ],
   "source": [
    "query(prompt.format('15+10'))"
   ]
  },
  {
   "cell_type": "markdown",
   "metadata": {},
   "source": [
    "Horray! that might have done it... but does it hold up?"
   ]
  },
  {
   "cell_type": "code",
   "execution_count": 34,
   "metadata": {},
   "outputs": [
    {
     "data": {
      "text/plain": [
       "' 125'"
      ]
     },
     "execution_count": 34,
     "metadata": {},
     "output_type": "execute_result"
    }
   ],
   "source": [
    "query(prompt.format('115+10'))"
   ]
  },
  {
   "cell_type": "code",
   "execution_count": 35,
   "metadata": {},
   "outputs": [
    {
     "data": {
      "text/plain": [
       "' 115'"
      ]
     },
     "execution_count": 35,
     "metadata": {},
     "output_type": "execute_result"
    }
   ],
   "source": [
    "query(prompt.format('65+50'))"
   ]
  },
  {
   "cell_type": "code",
   "execution_count": 36,
   "metadata": {},
   "outputs": [
    {
     "data": {
      "text/plain": [
       "' 88'"
      ]
     },
     "execution_count": 36,
     "metadata": {},
     "output_type": "execute_result"
    }
   ],
   "source": [
    "query(prompt.format('65+23'))"
   ]
  },
  {
   "cell_type": "code",
   "execution_count": 37,
   "metadata": {},
   "outputs": [
    {
     "data": {
      "text/plain": [
       "' 88'"
      ]
     },
     "execution_count": 37,
     "metadata": {},
     "output_type": "execute_result"
    }
   ],
   "source": [
    "query(prompt.format('65 + 23'))"
   ]
  },
  {
   "cell_type": "markdown",
   "metadata": {},
   "source": [
    "We can see if we can give it hints to do it correctly"
   ]
  },
  {
   "cell_type": "code",
   "execution_count": 38,
   "metadata": {},
   "outputs": [],
   "source": [
    "prompt = \"\"\"Task: Spell out the sum of each math problem.\n",
    "\n",
    "Question: 1+1\n",
    "Answer: two\n",
    "\n",
    "Question: 12 + 52\n",
    "Answer: sixty-four\n",
    "\n",
    "Question: {}\n",
    "Answer:\"\"\""
   ]
  },
  {
   "cell_type": "code",
   "execution_count": 39,
   "metadata": {},
   "outputs": [
    {
     "data": {
      "text/plain": [
       "' eighty-eight'"
      ]
     },
     "execution_count": 39,
     "metadata": {},
     "output_type": "execute_result"
    }
   ],
   "source": [
    "query(prompt.format('65 + 23'))"
   ]
  },
  {
   "cell_type": "code",
   "execution_count": 40,
   "metadata": {},
   "outputs": [
    {
     "data": {
      "text/plain": [
       "' 255'"
      ]
     },
     "execution_count": 40,
     "metadata": {},
     "output_type": "execute_result"
    }
   ],
   "source": [
    "query(prompt.format('165 + 80'))"
   ]
  },
  {
   "cell_type": "markdown",
   "metadata": {},
   "source": [
    "But it doesn't always work, so let's try just giving more examples instead"
   ]
  },
  {
   "cell_type": "code",
   "execution_count": 56,
   "metadata": {},
   "outputs": [],
   "source": [
    "prompt = \"\"\"Task: Spell out the sum of each math problem.\n",
    "\n",
    "Question: 40 + 50\n",
    "Answer: Ninety\n",
    "\n",
    "Question: 1+1\n",
    "Answer: Two\n",
    "\n",
    "Question: 50 + 80\n",
    "Answer: One hundred and twenty\n",
    "\n",
    "Question: 12 + 52\n",
    "Answer: Sixty Four\n",
    "\n",
    "Question: {}\n",
    "Answer:\"\"\""
   ]
  },
  {
   "cell_type": "code",
   "execution_count": 57,
   "metadata": {},
   "outputs": [
    {
     "data": {
      "text/plain": [
       "' 88'"
      ]
     },
     "execution_count": 57,
     "metadata": {},
     "output_type": "execute_result"
    }
   ],
   "source": [
    "query(prompt.format('65 + 23'))"
   ]
  },
  {
   "cell_type": "markdown",
   "metadata": {},
   "source": [
    "Man, that still didn't work. Let's try really emphasizing that it's spelled out"
   ]
  },
  {
   "cell_type": "code",
   "execution_count": 58,
   "metadata": {},
   "outputs": [],
   "source": [
    "prompt = \"\"\"Task: Spell out the sum of each math problem.\n",
    "\n",
    "Question: 40 + 50\n",
    "Spelled Out Answer: Ninety\n",
    "\n",
    "Question: 1+1\n",
    "Spelled Out Answer: Two\n",
    "\n",
    "Question: 50 + 80\n",
    "Spelled Out Answer: One hundred and twenty\n",
    "\n",
    "Question: 12 + 52\n",
    "Spelled Out Answer: Sixty Four\n",
    "\n",
    "Question: {}\n",
    "Spelled Out Answer:\"\"\""
   ]
  },
  {
   "cell_type": "code",
   "execution_count": 59,
   "metadata": {},
   "outputs": [
    {
     "data": {
      "text/plain": [
       "' Eighty Eight'"
      ]
     },
     "execution_count": 59,
     "metadata": {},
     "output_type": "execute_result"
    }
   ],
   "source": [
    "query(prompt.format('65 + 23'))"
   ]
  },
  {
   "cell_type": "code",
   "execution_count": 60,
   "metadata": {},
   "outputs": [
    {
     "data": {
      "text/plain": [
       "' One hundred and ninety eight'"
      ]
     },
     "execution_count": 60,
     "metadata": {},
     "output_type": "execute_result"
    }
   ],
   "source": [
    "query(prompt.format('165 + 23'))"
   ]
  },
  {
   "cell_type": "markdown",
   "metadata": {},
   "source": [
    "Well, GPT's bad at math so that last one isn't necessarily it's fault. However, we can improve it by having it do the math first and then spelling it out."
   ]
  },
  {
   "cell_type": "code",
   "execution_count": 65,
   "metadata": {},
   "outputs": [],
   "source": [
    "prompt = \"\"\"Task: Spell out the sum of each math problem.\n",
    "\n",
    "Question: 40 + 50\n",
    "Answer: 90\n",
    "Spelled Out: Ninety\n",
    "\n",
    "Question: 1+1\n",
    "Answer: 2\n",
    "Spelled Out: Two\n",
    "\n",
    "Question: 50 + 80\n",
    "Answer: 130\n",
    "Spelled Out: One hundred and twenty\n",
    "\n",
    "Question: 12 + 52\n",
    "Answer: 64\n",
    "Spelled Out: Sixty Four\n",
    "\n",
    "Question: {}\n",
    "Answer:\"\"\""
   ]
  },
  {
   "cell_type": "code",
   "execution_count": 66,
   "metadata": {},
   "outputs": [
    {
     "data": {
      "text/plain": [
       "' 188'"
      ]
     },
     "execution_count": 66,
     "metadata": {},
     "output_type": "execute_result"
    }
   ],
   "source": [
    "query(prompt.format('165 + 23'))"
   ]
  },
  {
   "cell_type": "markdown",
   "metadata": {},
   "source": [
    "Whoops, it didn't give us the full answer because we had it stop on '\\n'"
   ]
  },
  {
   "cell_type": "code",
   "execution_count": 67,
   "metadata": {},
   "outputs": [],
   "source": [
    "r = query(prompt.format('165 + 23'), stop=['\\n\\n'])"
   ]
  },
  {
   "cell_type": "code",
   "execution_count": 68,
   "metadata": {},
   "outputs": [
    {
     "name": "stdout",
     "output_type": "stream",
     "text": [
      " 188\n",
      "Answer: One hundred and eighty eight\n",
      "\n"
     ]
    }
   ],
   "source": [
    "print(r)"
   ]
  },
  {
   "cell_type": "markdown",
   "metadata": {},
   "source": [
    "Horray! So we can engineer prompts to do more and more. How's it do with 4 digits?"
   ]
  },
  {
   "cell_type": "code",
   "execution_count": 70,
   "metadata": {},
   "outputs": [
    {
     "name": "stdout",
     "output_type": "stream",
     "text": [
      " 1265\n",
      "Spelled Out: One thousand two hundred and sixty five\n"
     ]
    }
   ],
   "source": [
    "r = query(prompt.format('565 + 700'), stop=['\\n\\n'], max_tokens=30)\n",
    "print(r)"
   ]
  },
  {
   "cell_type": "code",
   "execution_count": 71,
   "metadata": {},
   "outputs": [
    {
     "name": "stdout",
     "output_type": "stream",
     "text": [
      " 2465\n",
      "Spelled Out: Twenty Four Hundred and Sixty Five\n"
     ]
    }
   ],
   "source": [
    "r = query(prompt.format('1565 + 700'), stop=['\\n\\n'], max_tokens=30)\n",
    "print(r)"
   ]
  },
  {
   "cell_type": "markdown",
   "metadata": {},
   "source": [
    "Well, Math's hard. I'll leave this with a problem for you: Is there a way to improve its ability to do 4 digit arithmetic?"
   ]
  },
  {
   "cell_type": "code",
   "execution_count": 73,
   "metadata": {},
   "outputs": [],
   "source": [
    "prompt = \"\"\"\n",
    "YOUR PROMPT HERE\n",
    "\"\"\""
   ]
  },
  {
   "cell_type": "code",
   "execution_count": null,
   "metadata": {},
   "outputs": [],
   "source": []
  }
 ],
 "metadata": {
  "kernelspec": {
   "display_name": "Python 3",
   "language": "python",
   "name": "python3"
  },
  "language_info": {
   "codemirror_mode": {
    "name": "ipython",
    "version": 3
   },
   "file_extension": ".py",
   "mimetype": "text/x-python",
   "name": "python",
   "nbconvert_exporter": "python",
   "pygments_lexer": "ipython3",
   "version": "3.8.5"
  }
 },
 "nbformat": 4,
 "nbformat_minor": 4
}
