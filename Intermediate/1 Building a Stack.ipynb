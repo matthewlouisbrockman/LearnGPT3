{
 "cells": [
  {
   "cell_type": "markdown",
   "metadata": {},
   "source": [
    "## 1: Building a stack\n",
    "\n",
    "Let GPT come up with steps to problem solving"
   ]
  },
  {
   "cell_type": "markdown",
   "metadata": {},
   "source": [
    "We'll start off with the loading of our environmental variables etc."
   ]
  },
  {
   "cell_type": "code",
   "execution_count": 1,
   "metadata": {},
   "outputs": [
    {
     "name": "stdout",
     "output_type": "stream",
     "text": [
      "Organization Added\n"
     ]
    }
   ],
   "source": [
    "import os, openai, json\n",
    "openai.api_key = os.environ['OPENAI_KEY']\n",
    "try:\n",
    "    openai.organization = os.environ['OPENAI_ORG']\n",
    "    print('Organization Added')\n",
    "except:\n",
    "    print('No Organization')\n",
    "    \n",
    "#Run this if you want to use your personal instead of default org\n",
    "openai.organization=None\n",
    "\n",
    "os.makedirs('prompts', exist_ok=True)"
   ]
  },
  {
   "cell_type": "markdown",
   "metadata": {},
   "source": [
    "Our query wrapper"
   ]
  },
  {
   "cell_type": "code",
   "execution_count": 2,
   "metadata": {},
   "outputs": [],
   "source": [
    "def query(prompt, full=False, **kwargs):\n",
    "    modelKwargs = {\n",
    "        'temperature':0,\n",
    "        'engine':'davinci',\n",
    "        'max_tokens':10,\n",
    "        'stop':['\\n']\n",
    "    }\n",
    "    \n",
    "    for kwarg in kwargs:\n",
    "        modelKwargs[kwarg] = kwargs[kwarg]\n",
    "    \n",
    "    completion = openai.Completion.create(prompt=prompt, **modelKwargs)\n",
    "    \n",
    "    with open('prompts/{}.json'.format(completion['id']), 'w') as fh:\n",
    "        json.dump(completion, fh, indent=4)\n",
    "    \n",
    "    if full:\n",
    "        return completion\n",
    "    if 'n' in modelKwargs:\n",
    "        return [x['text'] for x in completion['choices']]\n",
    "    return completion['choices'][0]['text']"
   ]
  },
  {
   "cell_type": "code",
   "execution_count": 3,
   "metadata": {},
   "outputs": [
    {
     "data": {
      "text/plain": [
       "'2.'"
      ]
     },
     "execution_count": 3,
     "metadata": {},
     "output_type": "execute_result"
    }
   ],
   "source": [
    "query('1+1=')"
   ]
  },
  {
   "cell_type": "markdown",
   "metadata": {},
   "source": [
    "So when we're solving a task, we've seen already that we can use intermediary steps to help GPT generate the final answer, e.g., with math in the introductory notebook 2, we first calculate the digits that we'll need to write out."
   ]
  },
  {
   "cell_type": "code",
   "execution_count": 5,
   "metadata": {},
   "outputs": [
    {
     "data": {
      "text/plain": [
       "' 1100\\nSpelled Out: One Thousand and Ten'"
      ]
     },
     "execution_count": 5,
     "metadata": {},
     "output_type": "execute_result"
    }
   ],
   "source": [
    "prompt = \"\"\"Task: Spell out the sum of each math problem.\n",
    "\n",
    "Question: 40 + 50\n",
    "Answer: 90\n",
    "Spelled Out: Ninety\n",
    "\n",
    "Question: 1+1\n",
    "Answer: 2\n",
    "Spelled Out: Two\n",
    "\n",
    "Question: 50 + 80\n",
    "Answer: 130\n",
    "Spelled Out: One hundred and twenty\n",
    "\n",
    "Question: 12 + 52\n",
    "Answer: 64\n",
    "Spelled Out: Sixty Four\n",
    "\n",
    "Question: {}\n",
    "Answer:\"\"\"\n",
    "query(prompt.format('450+650'), stop=['\\n\\n'])"
   ]
  },
  {
   "cell_type": "markdown",
   "metadata": {},
   "source": [
    "(oddly, it got that wrong but that's not the point)\n",
    "\n",
    "Sometimes, rather than have GPT wander on its own towards a problem, we might want to let GPT come up with the intermediary steps on its own rather than follow a set that we hard code for it. There's a lot of reason there might be intermediary steps, such as extracting values from a database or any sort of complex exercise.\n",
    "\n",
    "Actually, the example above is a good example of this. It got 1100 as `One Thousand and Ten` and we might want to do that in a seperate step. So let's split the prompt up into two different calls. We can start by hard coding it."
   ]
  },
  {
   "cell_type": "code",
   "execution_count": 46,
   "metadata": {},
   "outputs": [],
   "source": [
    "prompt1 = \"\"\"Sum: 50 + 25\n",
    "Result: 75\n",
    "\n",
    "Sum: 520 + 310\n",
    "Result: 830\n",
    "\n",
    "Sum: 1,540 + 4,200\n",
    "Result: 5,740\n",
    "\n",
    "Sum: {}\n",
    "Result:\"\"\""
   ]
  },
  {
   "cell_type": "code",
   "execution_count": 18,
   "metadata": {},
   "outputs": [],
   "source": [
    "prompt2 = \"\"\"Digits: 540\n",
    "Spelled: Five hundred forty.\n",
    "\n",
    "Digits: 5,203\n",
    "Spelled: Five thousand, two hundred and three.\n",
    "\n",
    "Digits: 9,100\n",
    "Spelled: Nine thousand, one hundred.\n",
    "\n",
    "Digits: {}\n",
    "Spelled:\"\"\""
   ]
  },
  {
   "cell_type": "markdown",
   "metadata": {},
   "source": [
    "Then we can just create a pipeline where we feed the result of the prior answer to the next prompt, e.g"
   ]
  },
  {
   "cell_type": "code",
   "execution_count": 11,
   "metadata": {},
   "outputs": [],
   "source": [
    "def smartAdd(int1, int2):\n",
    "    firstResult = query(prompt1.format('{} + {}').format(int1, int2)).strip()\n",
    "    print('First Result: ', firstResult)\n",
    "    secondResult = query(prompt2.format(firstResult))\n",
    "    print('Second Result: ', secondResult)"
   ]
  },
  {
   "cell_type": "code",
   "execution_count": 12,
   "metadata": {},
   "outputs": [
    {
     "name": "stdout",
     "output_type": "stream",
     "text": [
      "First Result:  : 95\n",
      "Second Result:  : Ninety-five\n"
     ]
    }
   ],
   "source": [
    "smartAdd(52, 43)"
   ]
  },
  {
   "cell_type": "code",
   "execution_count": 13,
   "metadata": {},
   "outputs": [
    {
     "name": "stdout",
     "output_type": "stream",
     "text": [
      "First Result:  : 1,721\n",
      "Second Result:  : One thousand, seven hundred and twenty-one\n"
     ]
    }
   ],
   "source": [
    "smartAdd('1,421', '300')"
   ]
  },
  {
   "cell_type": "code",
   "execution_count": 19,
   "metadata": {},
   "outputs": [
    {
     "name": "stdout",
     "output_type": "stream",
     "text": [
      "First Result:  : 1,100\n",
      "Second Result:   One thousand, one hundred.\n"
     ]
    }
   ],
   "source": [
    "smartAdd(450, 650)"
   ]
  },
  {
   "cell_type": "code",
   "execution_count": 20,
   "metadata": {},
   "outputs": [
    {
     "name": "stdout",
     "output_type": "stream",
     "text": [
      "First Result:  : 11,000\n",
      "Second Result:   Eleven thousand.\n"
     ]
    }
   ],
   "source": [
    "smartAdd(4500, 6500)"
   ]
  },
  {
   "cell_type": "code",
   "execution_count": 23,
   "metadata": {},
   "outputs": [
    {
     "name": "stdout",
     "output_type": "stream",
     "text": [
      "First Result:  : 11141\n",
      "Second Result:   One hundred and eleven thousand four hundred and one.\n"
     ]
    }
   ],
   "source": [
    "smartAdd(4501, 6540)"
   ]
  },
  {
   "cell_type": "markdown",
   "metadata": {},
   "source": [
    "It turns out this still has some bugs in it, but including commas can help it keep track of where the places are (although apparently we need to give it examples for how we want things spelled)"
   ]
  },
  {
   "cell_type": "code",
   "execution_count": 22,
   "metadata": {},
   "outputs": [
    {
     "name": "stdout",
     "output_type": "stream",
     "text": [
      "First Result:  : 11,041\n",
      "Second Result:   Eleven thousand, forty-one.\n"
     ]
    }
   ],
   "source": [
    "smartAdd('4,501', '6,540')"
   ]
  },
  {
   "cell_type": "markdown",
   "metadata": {},
   "source": [
    "Cool, so we can chain multiple prompts together, but we have to come up with the order of steps on our own. To do this, we can put them into a stack. A stack is basically an array, where we'll stick a bunch of things into a queue of things to do, and then we'll remove them until we finish our task."
   ]
  },
  {
   "cell_type": "code",
   "execution_count": 48,
   "metadata": {},
   "outputs": [],
   "source": [
    "stack = []\n",
    "stack.append(prompt1)\n",
    "stack.append(prompt2)"
   ]
  },
  {
   "cell_type": "code",
   "execution_count": 49,
   "metadata": {},
   "outputs": [
    {
     "name": "stdout",
     "output_type": "stream",
     "text": [
      "11,041\n",
      "Eleven thousand, forty-one.\n"
     ]
    }
   ],
   "source": [
    "result = '4,501 + 6,540'\n",
    "\n",
    "while len(stack) > 0:\n",
    "    nextInstruction = stack.pop(0)\n",
    "    result = query(nextInstruction.format(result)).strip()\n",
    "    print(result)"
   ]
  },
  {
   "cell_type": "markdown",
   "metadata": {},
   "source": [
    "So now we just need a prompt to make the stack! Well, in this case, we had to format it I guess, but let's go for a general problem solving prompt"
   ]
  },
  {
   "cell_type": "code",
   "execution_count": 72,
   "metadata": {},
   "outputs": [],
   "source": [
    "problemPrompt = \"\"\"Each question may require multiple steps\n",
    "\n",
    "Question: What is 5+5\n",
    "Steps:\n",
    "1: Answer: Solve 5+5\n",
    "\n",
    "Question: What is the zip code of my house\n",
    "Steps:\n",
    "1: Need: Input address (street, city, state/country)\n",
    "2: Answer: Solve for zip code of above.\n",
    "\n",
    "Question: What is the capital of France\n",
    "Steps:\n",
    "1: Answer: Solve capital of France\n",
    "\n",
    "Question: Who wrote the book I am holding\n",
    "Steps:\n",
    "1: Input: Input the title of the book are you holding\n",
    "2: Answer: Solve for author of above\n",
    "\n",
    "Question: {}\n",
    "Steps:\"\"\""
   ]
  },
  {
   "cell_type": "code",
   "execution_count": 64,
   "metadata": {},
   "outputs": [
    {
     "data": {
      "text/plain": [
       "'\\n1: Answer: Solve 1+1'"
      ]
     },
     "execution_count": 64,
     "metadata": {},
     "output_type": "execute_result"
    }
   ],
   "source": [
    "query(problemPrompt.format('What is 1+1'), stop=['\\n\\n'])"
   ]
  },
  {
   "cell_type": "code",
   "execution_count": 66,
   "metadata": {},
   "outputs": [
    {
     "data": {
      "text/plain": [
       "'\\n1: Input: What is this\\n2: Answer: Solve for material of above'"
      ]
     },
     "execution_count": 66,
     "metadata": {},
     "output_type": "execute_result"
    }
   ],
   "source": [
    "query(problemPrompt.format('What is this made of'), stop=['\\n\\n'], max_tokens=30)"
   ]
  },
  {
   "cell_type": "markdown",
   "metadata": {},
   "source": [
    "This seems to work but there might be better ways to do it. Now, let's take each part and stick it in the stack."
   ]
  },
  {
   "cell_type": "code",
   "execution_count": 73,
   "metadata": {},
   "outputs": [],
   "source": [
    "r = query(problemPrompt.format('What is the zip code of my friend\\'s house'), stop=['\\n\\n'], max_tokens=30)"
   ]
  },
  {
   "cell_type": "code",
   "execution_count": 74,
   "metadata": {},
   "outputs": [
    {
     "name": "stdout",
     "output_type": "stream",
     "text": [
      "\n",
      "1: Input: Input the address of your friend\n",
      "2: Answer: Solve for zip code of above.\n"
     ]
    }
   ],
   "source": [
    "print(r)"
   ]
  },
  {
   "cell_type": "code",
   "execution_count": 83,
   "metadata": {},
   "outputs": [],
   "source": [
    "stack = []\n",
    "for line in r.split('\\n'):\n",
    "    if line.find(\":\") > -1:\n",
    "        stack.append(line[line.index(\":\")+1:].strip())"
   ]
  },
  {
   "cell_type": "code",
   "execution_count": 84,
   "metadata": {},
   "outputs": [
    {
     "name": "stdout",
     "output_type": "stream",
     "text": [
      "['Input: Input the address of your friend', 'Answer: Solve for zip code of above.']\n"
     ]
    }
   ],
   "source": [
    "print(stack)"
   ]
  },
  {
   "cell_type": "markdown",
   "metadata": {},
   "source": [
    "Great, now we've got a stack, but need to traverse it now. So we can create two functions. The first, we want to be able to take an input. We can do that in python by just asking for an input as such:"
   ]
  },
  {
   "cell_type": "code",
   "execution_count": 86,
   "metadata": {},
   "outputs": [
    {
     "name": "stdout",
     "output_type": "stream",
     "text": [
      "Put something in: Foo\n",
      "Foo\n"
     ]
    }
   ],
   "source": [
    "newVar = input('Put something in: ', )\n",
    "print(newVar)"
   ]
  },
  {
   "cell_type": "markdown",
   "metadata": {},
   "source": [
    "Now when we traverse the stack, we can use input as the prompt"
   ]
  },
  {
   "cell_type": "code",
   "execution_count": 89,
   "metadata": {},
   "outputs": [
    {
     "name": "stdout",
     "output_type": "stream",
     "text": [
      "Input the address of your friend: 710 3rd St, San Francisco, CA\n",
      "710 3rd St, San Francisco, CA\n"
     ]
    }
   ],
   "source": [
    "for line in stack:\n",
    "    if line.startswith('Input'):\n",
    "        print(input(line[line.find(\":\")+1:].strip() + ': ', ))"
   ]
  },
  {
   "cell_type": "markdown",
   "metadata": {},
   "source": [
    "So for inputs, we can do that, and then we can just have a general question answering prompt for the ones that require answers"
   ]
  },
  {
   "cell_type": "code",
   "execution_count": 137,
   "metadata": {},
   "outputs": [],
   "source": [
    "prompt = \"\"\"Question: Who is the author of this book?\n",
    "Input: What is the title of the book?\n",
    "War and Peace\n",
    "Solve for author of above\n",
    "Answer: Leo Tolstoy\n",
    "\n",
    "Question: {}\n",
    "\"\"\""
   ]
  },
  {
   "cell_type": "code",
   "execution_count": 138,
   "metadata": {},
   "outputs": [],
   "source": [
    "def buildStack(gptResponse):\n",
    "    stack = []\n",
    "    for line in gptResponse.split('\\n'):\n",
    "        if line.find(\":\") > -1:\n",
    "            stack.append(line[line.index(\":\")+1:].strip())\n",
    "    return stack"
   ]
  },
  {
   "cell_type": "code",
   "execution_count": 143,
   "metadata": {},
   "outputs": [
    {
     "name": "stdout",
     "output_type": "stream",
     "text": [
      "Enter your question: What is my friends's house's zip code?\n"
     ]
    }
   ],
   "source": [
    "myQuestion = input('Enter your question: ', )"
   ]
  },
  {
   "cell_type": "code",
   "execution_count": 144,
   "metadata": {},
   "outputs": [],
   "source": [
    "gptResponse = query(problemPrompt.format(myQuestion), stop=['\\n\\n'], max_tokens=30)"
   ]
  },
  {
   "cell_type": "code",
   "execution_count": 145,
   "metadata": {},
   "outputs": [],
   "source": [
    "myStack = buildStack(gptResponse)"
   ]
  },
  {
   "cell_type": "markdown",
   "metadata": {},
   "source": [
    "So now we can traverse the stack"
   ]
  },
  {
   "cell_type": "code",
   "execution_count": 147,
   "metadata": {},
   "outputs": [
    {
     "data": {
      "text/plain": [
       "[\"Input: Input the address of your friend's house\",\n",
       " 'Answer: Solve for zip code of above.']"
      ]
     },
     "execution_count": 147,
     "metadata": {},
     "output_type": "execute_result"
    }
   ],
   "source": [
    "myStack"
   ]
  },
  {
   "cell_type": "code",
   "execution_count": 148,
   "metadata": {},
   "outputs": [
    {
     "name": "stdout",
     "output_type": "stream",
     "text": [
      "Input the address of your friend's house: 710 3rd St, San Francisco, CA\n",
      " 94103\n"
     ]
    }
   ],
   "source": [
    "finalPrompt = prompt.format(myQuestion)\n",
    "\n",
    "while len(myStack) > 0:\n",
    "    nextInstruction = myStack.pop(0)\n",
    "    if (nextInstruction.startswith('Input:')):\n",
    "        formattedInstruction = nextInstruction[nextInstruction.find(\":\")+1:].strip()\n",
    "        finalPrompt += 'Input: ' + formattedInstruction + '\\n'\n",
    "        finalPrompt += input(formattedInstruction + ': ', )\n",
    "    else:\n",
    "        finalPrompt += nextInstruction[nextInstruction.find(\":\")+1:].strip()\n",
    "        finalPrompt += '\\nAnswer:'\n",
    "        newResult = query(finalPrompt.strip())\n",
    "        print(newResult)\n",
    "        finalPrompt += newResult\n",
    "        \n",
    "    finalPrompt +='\\n'"
   ]
  },
  {
   "cell_type": "markdown",
   "metadata": {},
   "source": [
    "Of course, that Zip code's wrong but it gets the point across. Can you come up with complicated systems you might need to come up with steps to solve? It turns out coming up with steps on the fly is actually pretty hard!"
   ]
  },
  {
   "cell_type": "code",
   "execution_count": null,
   "metadata": {},
   "outputs": [],
   "source": []
  }
 ],
 "metadata": {
  "kernelspec": {
   "display_name": "Python 3",
   "language": "python",
   "name": "python3"
  },
  "language_info": {
   "codemirror_mode": {
    "name": "ipython",
    "version": 3
   },
   "file_extension": ".py",
   "mimetype": "text/x-python",
   "name": "python",
   "nbconvert_exporter": "python",
   "pygments_lexer": "ipython3",
   "version": "3.8.5"
  }
 },
 "nbformat": 4,
 "nbformat_minor": 4
}
